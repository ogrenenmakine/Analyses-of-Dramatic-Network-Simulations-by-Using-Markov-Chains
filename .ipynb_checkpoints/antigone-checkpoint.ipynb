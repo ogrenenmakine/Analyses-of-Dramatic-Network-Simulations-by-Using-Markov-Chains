{
 "cells": [
  {
   "cell_type": "code",
   "execution_count": null,
   "metadata": {},
   "outputs": [],
   "source": [
    "import matplotlib.pyplot as plt\n",
    "from bs4 import BeautifulSoup\n",
    "import networkx as nx\n",
    "import numpy as np\n",
    "import pandas as pd\n",
    "from discreteMarkovChain import markovChain\n",
    "import os\n",
    "import glob\n",
    "import random\n",
    "from scipy.stats import expon"
   ]
  },
  {
   "cell_type": "code",
   "execution_count": null,
   "metadata": {},
   "outputs": [],
   "source": [
    "all_chars = [\"Start/End\",\"ANTIGONE\", \"CHORAGOS\", \"CREON\", \"EURIDICE\", \"HAIMON\", \"ISMENE\", \"MESSENGER\", \"SENTRY\", \"TEIRESIAS\", \"CHORUS\"]\n",
    "\n",
    "c = 0\n",
    "cd = np.zeros((len(glob.glob(\"*.txt\")),len(all_chars)))\n",
    "for loc in sorted(glob.glob(\"*.txt\")):\n",
    "    with open(loc) as fp:\n",
    "        xx = fp.readlines()\n",
    "    order_of_speech = [x.strip() for x in xx]\n",
    "    d = {x:order_of_speech.count(x) for x in order_of_speech}\n",
    "    chars = [\"Start/End\"]\n",
    "    chars += list(d.keys())\n",
    "    P = np.zeros((len(chars),len(chars)))\n",
    "    prev = chars.index(order_of_speech[0])\n",
    "    for s in order_of_speech[1:]:\n",
    "        current = chars.index(s)\n",
    "        P[prev][current] += 1\n",
    "        prev = current\n",
    "    P[prev][chars.index(\"Start/End\")] += 1\n",
    "    P[chars.index(\"Start/End\")][chars.index(order_of_speech[0])] += 1\n",
    "    mapping = {}\n",
    "    for i,v in enumerate(chars):\n",
    "        mapping[i]=v\n",
    "    P /=  P.sum(axis=1)[:,np.newaxis]\n",
    "    mc = markovChain(P)\n",
    "    mc.computePi('eigen')\n",
    "    print(\"###\",loc.split(\"/\")[-1].replace(\".txt\",\"\"))\n",
    "    for i in range(len(chars)):\n",
    "        print(\"%.4f # %s\" % (mc.pi[i],mapping[i]))\n",
    "        cd[c,all_chars.index(mapping[i])] = mc.pi[i]\n",
    "    c += 1\n",
    "    G = nx.DiGraph()\n",
    "    for n in all_chars:\n",
    "        G.add_node(n)\n",
    "    labels={}\n",
    "    edge_labels={}\n",
    "    for i, origin_state in enumerate(chars):\n",
    "        for j, destination_state in enumerate(chars):\n",
    "            rate = P[i][j]\n",
    "            if rate > 0:\n",
    "                G.add_edge(origin_state,\n",
    "                        destination_state,\n",
    "                        weight=rate,\n",
    "                        label=\"{:.02f}\".format(rate))\n",
    "                edge_labels[(origin_state, destination_state)] = label=\"{:.02f}\".format(rate)\n",
    "    plt.figure(figsize=(12,9))\n",
    "    pos = nx.shell_layout(G)\n",
    "    nx.draw_networkx_edges(G, pos, width = 5, alpha = 0.6, style = 'dashed', edge_color='#32CD32')\n",
    "    nx.draw_networkx_labels(G, pos, font_weight=5)\n",
    "    nx.draw_networkx_edge_labels(G, pos, edge_labels)\n",
    "    nx.draw_networkx_nodes(G, pos, alpha=0.5, node_color='gray',node_shape='o' , node_size=4000)"
   ]
  },
  {
   "cell_type": "code",
   "execution_count": null,
   "metadata": {},
   "outputs": [],
   "source": [
    "number = 10000\n",
    "alphas = []\n",
    "kwargs = dict(alpha=0.5, bins=100, density=True)\n",
    "colors = ['r', 'g', 'b', 'c', 'm', 'y', 'k']\n",
    "labels = ['prologue', 'parodos', 'ODE I', 'ODE II', 'ODE III', 'ODE IV', 'Exodos']\n",
    "np.random.seed(int.from_bytes(os.urandom(4), byteorder='little')) \n",
    "fig = plt.figure(figsize=(45,5))\n",
    "for i in range(7):\n",
    "    avg = []\n",
    "    for k in range(number):\n",
    "        char_order = []\n",
    "        for t in range(500):\n",
    "            random_character = all_chars[np.random.choice(11, 1, p=cd[i,:])[0]]\n",
    "            char_order.append(random_character)\n",
    "            if random_character == \"Start/End\":\n",
    "                break\n",
    "        avg.append(len(char_order))\n",
    "    avg.sort(reverse=True)\n",
    "    ax = fig.add_subplot(1,7,i+1)\n",
    "    ax.hist(avg, **kwargs, color=np.random.rand(3,))\n",
    "    ax.set_title(labels[i])\n",
    "    loc, scale = expon.fit(avg, floc=0)\n",
    "    print(loc, scale)\n",
    "    x = np.linspace(0,max(avg),1000)\n",
    "    y = expon.pdf(x, loc, scale)\n",
    "    ax.plot(x, y)\n",
    "    alphas.append(scale)\n",
    "\n",
    "plt.legend();\n",
    "plt.savefig('figures/histogram_antigone.png')"
   ]
  },
  {
   "cell_type": "code",
   "execution_count": null,
   "metadata": {},
   "outputs": [],
   "source": [
    "plt.plot(range(7),alphas)\n",
    "plt.xlabel('Scenes')\n",
    "plt.ylabel('alpha values')\n",
    "plt.title('Alpha by Scene Graph')\n",
    "plt.savefig('figures/antigone_alpha.png')"
   ]
  },
  {
   "cell_type": "code",
   "execution_count": null,
   "metadata": {},
   "outputs": [],
   "source": []
  },
  {
   "cell_type": "code",
   "execution_count": null,
   "metadata": {},
   "outputs": [],
   "source": []
  },
  {
   "cell_type": "code",
   "execution_count": null,
   "metadata": {},
   "outputs": [],
   "source": []
  }
 ],
 "metadata": {
  "kernelspec": {
   "display_name": "Python 3",
   "language": "python",
   "name": "python3"
  },
  "language_info": {
   "codemirror_mode": {
    "name": "ipython",
    "version": 3
   },
   "file_extension": ".py",
   "mimetype": "text/x-python",
   "name": "python",
   "nbconvert_exporter": "python",
   "pygments_lexer": "ipython3",
   "version": "3.6.9"
  }
 },
 "nbformat": 4,
 "nbformat_minor": 4
}
